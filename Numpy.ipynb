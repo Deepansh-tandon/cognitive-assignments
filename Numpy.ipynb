{
  "nbformat": 4,
  "nbformat_minor": 0,
  "metadata": {
    "colab": {
      "provenance": [],
      "authorship_tag": "ABX9TyMu+vBYTSs+oFhz8WIjk+IX",
      "include_colab_link": true
    },
    "kernelspec": {
      "name": "python3",
      "display_name": "Python 3"
    },
    "language_info": {
      "name": "python"
    }
  },
  "cells": [
    {
      "cell_type": "markdown",
      "metadata": {
        "id": "view-in-github",
        "colab_type": "text"
      },
      "source": [
        "<a href=\"https://colab.research.google.com/github/Deepansh-tandon/cognitive-assignments/blob/main/Numpy.ipynb\" target=\"_parent\"><img src=\"https://colab.research.google.com/assets/colab-badge.svg\" alt=\"Open In Colab\"/></a>"
      ]
    },
    {
      "cell_type": "code",
      "execution_count": 10,
      "metadata": {
        "colab": {
          "base_uri": "https://localhost:8080/"
        },
        "id": "o4WO7BY1aYDI",
        "outputId": "78240ff0-f41f-4e53-ff1d-2ddfc344254c"
      },
      "outputs": [
        {
          "output_type": "stream",
          "name": "stdout",
          "text": [
            "[1 2 3 4 5]\n",
            "[3 4 5 6 7]\n",
            "[ 3  6  9 12 15]\n",
            "[0.5 1.  1.5 2.  2.5]\n"
          ]
        }
      ],
      "source": [
        "import numpy as np\n",
        "a=np.array([1,2,3,4,5]);\n",
        "print(a)\n",
        "print(a+2)\n",
        "print(a*3)\n",
        "print(a/2)"
      ]
    },
    {
      "cell_type": "code",
      "source": [
        "a = a[ : :-1]\n",
        "a"
      ],
      "metadata": {
        "colab": {
          "base_uri": "https://localhost:8080/"
        },
        "id": "F-WBXLvxavzZ",
        "outputId": "7cf2d7cc-49b4-43db-c7b4-f4f39e2cf39e"
      },
      "execution_count": 11,
      "outputs": [
        {
          "output_type": "execute_result",
          "data": {
            "text/plain": [
              "array([5, 4, 3, 2, 1])"
            ]
          },
          "metadata": {},
          "execution_count": 11
        }
      ]
    },
    {
      "cell_type": "code",
      "source": [
        "def freqele(arr):\n",
        "    unique_v,count=np.unique(arr,return_counts=True)\n",
        "    max=np.argmax(count)\n",
        "    freq=unique_v[max]\n",
        "    i=np.where(arr==freq)\n",
        "    return freq,i[0]\n",
        "\n",
        "x1=np.array([1,2,3,4,5,1,2,1,1,1])\n",
        "y1=np.array([1, 1, 1, 2, 3, 4, 2, 4, 3, 3])\n",
        "\n",
        "a1,a2=freqele(x1)\n",
        "b1,b2=freqele(y1)\n",
        "\n",
        "print(a1,a2)\n",
        "print(b1,b2)"
      ],
      "metadata": {
        "colab": {
          "base_uri": "https://localhost:8080/"
        },
        "id": "f_kELuqjeg84",
        "outputId": "405306a3-cadb-4f08-da8c-25528f6a7ae4"
      },
      "execution_count": 15,
      "outputs": [
        {
          "output_type": "stream",
          "name": "stdout",
          "text": [
            "1 [0 5 7 8 9]\n",
            "1 [0 1 2]\n"
          ]
        }
      ]
    },
    {
      "cell_type": "code",
      "source": [
        "y=np.array([[10,20,30],[40,50,60],[70,80,90]])\n",
        "print(y)\n",
        "print(y[0][1])\n",
        "print(y[2][0])"
      ],
      "metadata": {
        "colab": {
          "base_uri": "https://localhost:8080/"
        },
        "id": "An00AzMZdK5m",
        "outputId": "dcb598d2-3b12-4e11-a3f9-5da133fee3d3"
      },
      "execution_count": 13,
      "outputs": [
        {
          "output_type": "stream",
          "name": "stdout",
          "text": [
            "[[10 20 30]\n",
            " [40 50 60]\n",
            " [70 80 90]]\n",
            "20\n",
            "70\n"
          ]
        }
      ]
    },
    {
      "cell_type": "code",
      "source": [
        "x=np.array(np.linspace(10,100,25))\n",
        "print(x)\n",
        "print(x.shape)\n",
        "print(x.size)\n",
        "print(x.dtype)\n",
        "print(x.itemsize*x.size)\n",
        "print(x.reshape(5,5))\n",
        "# not an inbuilt function for transpose print(x.T)\n",
        "print(x.reshape(5,5).T)"
      ],
      "metadata": {
        "colab": {
          "base_uri": "https://localhost:8080/"
        },
        "id": "6ZHLlFd-baHc",
        "outputId": "a7a128f7-40fe-4410-8407-0bcb0604b7e4"
      },
      "execution_count": 12,
      "outputs": [
        {
          "output_type": "stream",
          "name": "stdout",
          "text": [
            "[ 10.    13.75  17.5   21.25  25.    28.75  32.5   36.25  40.    43.75\n",
            "  47.5   51.25  55.    58.75  62.5   66.25  70.    73.75  77.5   81.25\n",
            "  85.    88.75  92.5   96.25 100.  ]\n",
            "(25,)\n",
            "25\n",
            "float64\n",
            "200\n",
            "[[ 10.    13.75  17.5   21.25  25.  ]\n",
            " [ 28.75  32.5   36.25  40.    43.75]\n",
            " [ 47.5   51.25  55.    58.75  62.5 ]\n",
            " [ 66.25  70.    73.75  77.5   81.25]\n",
            " [ 85.    88.75  92.5   96.25 100.  ]]\n",
            "[[ 10.    28.75  47.5   66.25  85.  ]\n",
            " [ 13.75  32.5   51.25  70.    88.75]\n",
            " [ 17.5   36.25  55.    73.75  92.5 ]\n",
            " [ 21.25  40.    58.75  77.5   96.25]\n",
            " [ 25.    43.75  62.5   81.25 100.  ]]\n"
          ]
        }
      ]
    },
    {
      "cell_type": "code",
      "source": [
        "ucs420_deepansh=np.array([[10,20,30,40],[50,60,70,80],[90,15,20,35]])\n",
        "print(ucs420_deepansh)\n",
        "print(np.mean(ucs420_deepansh))\n",
        "print(np.median(ucs420_deepansh))\n",
        "print(np.max(ucs420_deepansh))\n",
        "print(np.min(ucs420_deepansh))\n",
        "print(np.unique(ucs420_deepansh))\n",
        "\n",
        "reshape_ucs420_deepansh=np.reshape(ucs420_deepansh,(4,3))\n",
        "print(reshape_ucs420_deepansh)\n",
        "\n",
        "resize_ucs420_deepansh=np.resize(ucs420_deepansh,(2,3))\n",
        "print(resize_ucs420_deepansh)"
      ],
      "metadata": {
        "colab": {
          "base_uri": "https://localhost:8080/"
        },
        "id": "rzdTwiOCdfUa",
        "outputId": "97727f1d-3470-407f-ed6f-8146e3bdf017"
      },
      "execution_count": 17,
      "outputs": [
        {
          "output_type": "stream",
          "name": "stdout",
          "text": [
            "[[10 20 30 40]\n",
            " [50 60 70 80]\n",
            " [90 15 20 35]]\n",
            "43.333333333333336\n",
            "37.5\n",
            "90\n",
            "10\n",
            "[10 15 20 30 35 40 50 60 70 80 90]\n",
            "[[10 20 30]\n",
            " [40 50 60]\n",
            " [70 80 90]\n",
            " [15 20 35]]\n",
            "[[10 20 30]\n",
            " [40 50 60]]\n"
          ]
        }
      ]
    }
  ]
}