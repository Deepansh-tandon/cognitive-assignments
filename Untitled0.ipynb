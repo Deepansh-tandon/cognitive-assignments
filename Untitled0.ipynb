{
  "nbformat": 4,
  "nbformat_minor": 0,
  "metadata": {
    "colab": {
      "provenance": [],
      "authorship_tag": "ABX9TyOnsArMw0rn2XvgC0VPl7+F",
      "include_colab_link": true
    },
    "kernelspec": {
      "name": "python3",
      "display_name": "Python 3"
    },
    "language_info": {
      "name": "python"
    }
  },
  "cells": [
    {
      "cell_type": "markdown",
      "metadata": {
        "id": "view-in-github",
        "colab_type": "text"
      },
      "source": [
        "<a href=\"https://colab.research.google.com/github/Deepansh-tandon/cognitive-assignments/blob/main/Untitled0.ipynb\" target=\"_parent\"><img src=\"https://colab.research.google.com/assets/colab-badge.svg\" alt=\"Open In Colab\"/></a>"
      ]
    },
    {
      "cell_type": "markdown",
      "source": [
        "1.\n",
        "Write a Python program to print \"Anything You find cool.\""
      ],
      "metadata": {
        "id": "eGC-4abLuc99"
      }
    },
    {
      "cell_type": "code",
      "execution_count": null,
      "metadata": {
        "colab": {
          "base_uri": "https://localhost:8080/"
        },
        "id": "YLm-eb1otB5R",
        "outputId": "46ff4890-cd78-44c6-fb97-49ceae730d36"
      },
      "outputs": [
        {
          "output_type": "stream",
          "name": "stdout",
          "text": [
            "Hala Madrid\n"
          ]
        }
      ],
      "source": [
        "print(\"Hala Madrid\")"
      ]
    },
    {
      "cell_type": "markdown",
      "source": [
        "2.1 Write a program to add two numbers and print the result."
      ],
      "metadata": {
        "id": "YxXCMdzzutYm"
      }
    },
    {
      "cell_type": "code",
      "source": [
        "a=5\n",
        "b=6\n",
        "print(a+b)"
      ],
      "metadata": {
        "colab": {
          "base_uri": "https://localhost:8080/"
        },
        "id": "WANFNGZRug6x",
        "outputId": "6b44cd3b-21dc-4950-8c79-6fa4669f5d8b"
      },
      "execution_count": null,
      "outputs": [
        {
          "output_type": "stream",
          "name": "stdout",
          "text": [
            "11\n"
          ]
        }
      ]
    },
    {
      "cell_type": "markdown",
      "source": [
        "2.2 Write a program to concatenate two strings and print the result."
      ],
      "metadata": {
        "id": "xPFfSA_FwrX1"
      }
    },
    {
      "cell_type": "code",
      "source": [
        "a=\"hello\"\n",
        "b=\"sionara\"\n",
        "c=a+b\n",
        "print(c)"
      ],
      "metadata": {
        "colab": {
          "base_uri": "https://localhost:8080/"
        },
        "id": "vWmHubetwr4a",
        "outputId": "8a26678e-abd9-443e-df64-238087a99c25"
      },
      "execution_count": null,
      "outputs": [
        {
          "output_type": "stream",
          "name": "stdout",
          "text": [
            "hellosionara\n"
          ]
        }
      ]
    },
    {
      "cell_type": "markdown",
      "source": [
        "2.3 Write a program to concatenate a string and a number and print the result."
      ],
      "metadata": {
        "id": "I26C7UI4w0Mn"
      }
    },
    {
      "cell_type": "code",
      "source": [
        "a=5\n",
        "b=\"bye\"\n",
        "print(a+b)\n",
        "#will give error"
      ],
      "metadata": {
        "colab": {
          "base_uri": "https://localhost:8080/",
          "height": 200
        },
        "id": "eud4XvLPw0f1",
        "outputId": "1d4327ab-f66f-455e-d420-f0eabbcdcafc"
      },
      "execution_count": null,
      "outputs": [
        {
          "output_type": "error",
          "ename": "TypeError",
          "evalue": "unsupported operand type(s) for +: 'int' and 'str'",
          "traceback": [
            "\u001b[0;31m---------------------------------------------------------------------------\u001b[0m",
            "\u001b[0;31mTypeError\u001b[0m                                 Traceback (most recent call last)",
            "\u001b[0;32m<ipython-input-4-377b5cbf54d7>\u001b[0m in \u001b[0;36m<cell line: 3>\u001b[0;34m()\u001b[0m\n\u001b[1;32m      1\u001b[0m \u001b[0ma\u001b[0m\u001b[0;34m=\u001b[0m\u001b[0;36m5\u001b[0m\u001b[0;34m\u001b[0m\u001b[0;34m\u001b[0m\u001b[0m\n\u001b[1;32m      2\u001b[0m \u001b[0mb\u001b[0m\u001b[0;34m=\u001b[0m\u001b[0;34m\"bye\"\u001b[0m\u001b[0;34m\u001b[0m\u001b[0;34m\u001b[0m\u001b[0m\n\u001b[0;32m----> 3\u001b[0;31m \u001b[0mprint\u001b[0m\u001b[0;34m(\u001b[0m\u001b[0ma\u001b[0m\u001b[0;34m+\u001b[0m\u001b[0mb\u001b[0m\u001b[0;34m)\u001b[0m\u001b[0;34m\u001b[0m\u001b[0;34m\u001b[0m\u001b[0m\n\u001b[0m\u001b[1;32m      4\u001b[0m \u001b[0;31m#will give error\u001b[0m\u001b[0;34m\u001b[0m\u001b[0;34m\u001b[0m\u001b[0m\n",
            "\u001b[0;31mTypeError\u001b[0m: unsupported operand type(s) for +: 'int' and 'str'"
          ]
        }
      ]
    },
    {
      "cell_type": "markdown",
      "source": [
        "3.1 Write a Python program to check if a number is positive, negative, or zerousing an if-else statement."
      ],
      "metadata": {
        "id": "TGDmOQ2-w9Ea"
      }
    },
    {
      "cell_type": "code",
      "source": [
        "n=int(input(\"Enter a number\"))\n",
        "if n>0:\n",
        "  print(\"positive number\")\n",
        "elif n<0:\n",
        "  print(\"negative number\")\n",
        "else:\n",
        "  print(\"zero\")"
      ],
      "metadata": {
        "colab": {
          "base_uri": "https://localhost:8080/"
        },
        "id": "GvBjUO92xGxj",
        "outputId": "e15bd271-903c-4ba0-8c6b-96f00a6662e9"
      },
      "execution_count": null,
      "outputs": [
        {
          "output_type": "stream",
          "name": "stdout",
          "text": [
            "Enter a number5\n",
            "positive number\n"
          ]
        }
      ]
    },
    {
      "cell_type": "markdown",
      "source": [
        "3.2 Write a program to check if a given number is odd or even."
      ],
      "metadata": {
        "id": "6y_DuBzexgG3"
      }
    },
    {
      "cell_type": "code",
      "source": [
        "num=int(input(\"enter a no\"))\n",
        "if (num%2==0):\n",
        "  print(\"even number\")\n",
        "else:\n",
        "  print(\"odd number\")"
      ],
      "metadata": {
        "colab": {
          "base_uri": "https://localhost:8080/"
        },
        "id": "-DtGVkVjxh3V",
        "outputId": "c9134876-c0de-4395-e365-b2b81a1ae530"
      },
      "execution_count": null,
      "outputs": [
        {
          "output_type": "stream",
          "name": "stdout",
          "text": [
            "enter a no42\n",
            "even number\n"
          ]
        }
      ]
    },
    {
      "cell_type": "markdown",
      "source": [
        "4.1 Write a program to print numbers from 1 to 10 using a for loop."
      ],
      "metadata": {
        "id": "Jy0t6YJPx3q5"
      }
    },
    {
      "cell_type": "code",
      "source": [
        "n=11\n",
        "for i in range(1,n):\n",
        "  print(i)\n",
        "  i=i+1"
      ],
      "metadata": {
        "colab": {
          "base_uri": "https://localhost:8080/"
        },
        "id": "DxNAfZsOx62S",
        "outputId": "7d02d899-fd03-4a98-b7d3-57753f35fe78"
      },
      "execution_count": null,
      "outputs": [
        {
          "output_type": "stream",
          "name": "stdout",
          "text": [
            "1\n",
            "2\n",
            "3\n",
            "4\n",
            "5\n",
            "6\n",
            "7\n",
            "8\n",
            "9\n",
            "10\n"
          ]
        }
      ]
    },
    {
      "cell_type": "markdown",
      "source": [
        "4.2 Write a program to print numbers from 1 to 10 using a while loop."
      ],
      "metadata": {
        "id": "89eeN4eWyHXs"
      }
    },
    {
      "cell_type": "code",
      "source": [
        "n=10\n",
        "while(n>0):\n",
        "  print(11-n)\n",
        "  n=n-1"
      ],
      "metadata": {
        "colab": {
          "base_uri": "https://localhost:8080/"
        },
        "id": "AO6y0wI6yH-0",
        "outputId": "d76489c8-a642-400f-b796-3d7903e7cebc"
      },
      "execution_count": null,
      "outputs": [
        {
          "output_type": "stream",
          "name": "stdout",
          "text": [
            "1\n",
            "2\n",
            "3\n",
            "4\n",
            "5\n",
            "6\n",
            "7\n",
            "8\n",
            "9\n",
            "10\n"
          ]
        }
      ]
    },
    {
      "cell_type": "code",
      "source": [
        "n=1\n",
        "while(n<=10):\n",
        "  print(n)\n",
        "  n=n+1"
      ],
      "metadata": {
        "colab": {
          "base_uri": "https://localhost:8080/"
        },
        "id": "F8ym7kydykE5",
        "outputId": "9a307a6a-2052-43cc-feaa-c79a99f0a404"
      },
      "execution_count": null,
      "outputs": [
        {
          "output_type": "stream",
          "name": "stdout",
          "text": [
            "1\n",
            "2\n",
            "3\n",
            "4\n",
            "5\n",
            "6\n",
            "7\n",
            "8\n",
            "9\n",
            "10\n"
          ]
        }
      ]
    },
    {
      "cell_type": "markdown",
      "source": [
        "4.3 Write a program to calculate the sum of numbers from 1 to 100 using a loop."
      ],
      "metadata": {
        "id": "qin_xmQHytm6"
      }
    },
    {
      "cell_type": "code",
      "source": [
        "s=0\n",
        "n=1\n",
        "while (n<=100):\n",
        "  s=s+n\n",
        "  n=n+1\n",
        "print(\"sum is\",s);"
      ],
      "metadata": {
        "colab": {
          "base_uri": "https://localhost:8080/"
        },
        "id": "WshVEae2yvhx",
        "outputId": "c4263537-0c98-403d-cda2-6843eceae37c"
      },
      "execution_count": null,
      "outputs": [
        {
          "output_type": "stream",
          "name": "stdout",
          "text": [
            "sum is 5050\n"
          ]
        }
      ]
    },
    {
      "cell_type": "markdown",
      "source": [
        "5.1 Create a list of 5 numbers. Write a program to find the largest and smallestnumbers in the list."
      ],
      "metadata": {
        "id": "cWHPN_4iy-TZ"
      }
    },
    {
      "cell_type": "code",
      "source": [
        "L=[2,6,85,42,85]\n",
        "h=max(L)\n",
        "l=min(L)\n",
        "#i used the inbuilt functions here, we can also find the highest\n",
        "#and lowest by iterating through the list\n",
        "print(\"largest no\",h)\n",
        "print(\"smallest no\",l)"
      ],
      "metadata": {
        "colab": {
          "base_uri": "https://localhost:8080/"
        },
        "id": "C_xpYM5fzAdZ",
        "outputId": "b453d167-026a-4287-862b-5106f76d2718"
      },
      "execution_count": null,
      "outputs": [
        {
          "output_type": "stream",
          "name": "stdout",
          "text": [
            "largest no 85\n",
            "smallest no 2\n"
          ]
        }
      ]
    },
    {
      "cell_type": "markdown",
      "source": [
        "5.2 Create a dictionary with at least 3 key-value pairs. Write a program to retrievethe value of a given key."
      ],
      "metadata": {
        "id": "P-EnSPnUzi9a"
      }
    },
    {
      "cell_type": "code",
      "source": [
        "dict={\"Apple\":2,\"Mango\":4,\"Banana\":5}\n",
        "print(dict[\"Apple\"])\n",
        "print(dict[\"Mango\"])"
      ],
      "metadata": {
        "colab": {
          "base_uri": "https://localhost:8080/"
        },
        "id": "K400ksrWzk1l",
        "outputId": "4828d66a-85e3-40a3-a6f5-d0eeecce8ee9"
      },
      "execution_count": null,
      "outputs": [
        {
          "output_type": "stream",
          "name": "stdout",
          "text": [
            "2\n",
            "4\n"
          ]
        }
      ]
    },
    {
      "cell_type": "markdown",
      "source": [
        "5.3 Write a program to sort a list of numbers in ascending and descending order."
      ],
      "metadata": {
        "id": "ltbdhtXH08rw"
      }
    },
    {
      "cell_type": "code",
      "source": [
        "L=[5,4,8,2,12,65,20,3,8]\n",
        "print(\"list is\" ,L)\n",
        "\n",
        "L.sort();\n",
        "print(\"Sorted in ascending order\",L)\n",
        "\n",
        "L.sort(reverse=True)\n",
        "print(\"sorted in descending\",L)"
      ],
      "metadata": {
        "colab": {
          "base_uri": "https://localhost:8080/"
        },
        "id": "wDSs58460-8b",
        "outputId": "febd843e-c4df-429f-da66-47f4b6600ef8"
      },
      "execution_count": null,
      "outputs": [
        {
          "output_type": "stream",
          "name": "stdout",
          "text": [
            "list is [5, 4, 8, 2, 12, 65, 20, 3, 8]\n",
            "Sorted in ascending order [2, 3, 4, 5, 8, 8, 12, 20, 65]\n",
            "sorted in descending [65, 20, 12, 8, 8, 5, 4, 3, 2]\n"
          ]
        }
      ]
    },
    {
      "cell_type": "markdown",
      "source": [
        "5.4 Write a program to merge two dictionaries into one."
      ],
      "metadata": {
        "id": "_Fpe7p_V1fbr"
      }
    },
    {
      "cell_type": "code",
      "source": [
        "dict1={\"Apple\":2,\"Mango\":4,\"Banana\":5}\n",
        "dict2={\"Tomato\":45,\"Potato\":5}\n",
        "dict3=dict1|dict2\n",
        "#dict3={**dict1,**dict2}\n",
        "print(dict1)\n",
        "print(dict2)\n",
        "print(dict3)"
      ],
      "metadata": {
        "colab": {
          "base_uri": "https://localhost:8080/"
        },
        "id": "ns3-K0EG1gc7",
        "outputId": "0081c969-2e96-4d7e-a8af-30461b6fd168"
      },
      "execution_count": null,
      "outputs": [
        {
          "output_type": "stream",
          "name": "stdout",
          "text": [
            "{'Apple': 2, 'Mango': 4, 'Banana': 5}\n",
            "{'Tomato': 45, 'Potato': 5}\n",
            "{'Apple': 2, 'Mango': 4, 'Banana': 5, 'Tomato': 45, 'Potato': 5}\n"
          ]
        }
      ]
    },
    {
      "cell_type": "markdown",
      "source": [
        "6.1 Write a program to count the number of vowels in a given string."
      ],
      "metadata": {
        "id": "_GikKiVL2crU"
      }
    },
    {
      "cell_type": "code",
      "source": [
        "def isVowel(c):\n",
        "  if(c=='a'or c=='e'or c=='i' or c=='o'or c=='u'):\n",
        "    return True\n",
        "  return False\n",
        "\n",
        "\n",
        "s=\"haha lets go\"\n",
        "ans=0\n",
        "for c in s:\n",
        "  if isVowel(c):\n",
        "    ans=ans+1\n",
        "print(\"no of vowels are\",ans)"
      ],
      "metadata": {
        "colab": {
          "base_uri": "https://localhost:8080/"
        },
        "id": "y4bDI-yU2dkB",
        "outputId": "0664b4b1-3cfa-4c10-8ac0-a64b6090b9c5"
      },
      "execution_count": null,
      "outputs": [
        {
          "output_type": "stream",
          "name": "stdout",
          "text": [
            "no of vowels are 4\n"
          ]
        }
      ]
    },
    {
      "cell_type": "markdown",
      "source": [
        "6.2 Write a program to reverse a string and print it."
      ],
      "metadata": {
        "id": "iyYObTNf3oe3"
      }
    },
    {
      "cell_type": "code",
      "source": [
        "s=input(\"enter string\")\n",
        "print(\"reverse is\",s[::-1])"
      ],
      "metadata": {
        "colab": {
          "base_uri": "https://localhost:8080/"
        },
        "id": "8iapzbLJ3rk1",
        "outputId": "4615c13d-2b60-4889-b976-899e98debea4"
      },
      "execution_count": null,
      "outputs": [
        {
          "output_type": "stream",
          "name": "stdout",
          "text": [
            "enter stringBalle Balle\n",
            "reverse is ellaB ellaB\n"
          ]
        }
      ]
    },
    {
      "cell_type": "markdown",
      "source": [
        "6.3 Write a program to check if a string is a palindrome."
      ],
      "metadata": {
        "id": "YfCUlQl536ii"
      }
    },
    {
      "cell_type": "code",
      "source": [
        "s=input(\"enter a string \")\n",
        "s=s.lower()\n",
        "r=s[::-1]\n",
        "\n",
        "if(s==r):\n",
        "  print(\"palindrome\")\n",
        "else:\n",
        "  print(\"not palindrome\")\n"
      ],
      "metadata": {
        "colab": {
          "base_uri": "https://localhost:8080/"
        },
        "id": "Tnxv1A-q37Qk",
        "outputId": "929cf8a4-8fa5-4079-893e-f48a2401b548"
      },
      "execution_count": null,
      "outputs": [
        {
          "output_type": "stream",
          "name": "stdout",
          "text": [
            "enter a string Naman\n",
            "palindrome\n"
          ]
        }
      ]
    },
    {
      "cell_type": "markdown",
      "source": [
        "7.1 Write a program to create a text file, write some text into it, and then read andprint the content."
      ],
      "metadata": {
        "id": "PkxHuMYJ5EZU"
      }
    },
    {
      "cell_type": "code",
      "source": [
        "file=open(\"hahaha.txt\",\"w\")\n",
        "file.write(\"hello guys\");\n",
        "file.close();\n",
        "\n",
        "file=open(\"hahaha.txt\",\"r\")\n",
        "data=file.read()\n",
        "print(data)\n",
        "file.close()\n"
      ],
      "metadata": {
        "colab": {
          "base_uri": "https://localhost:8080/"
        },
        "id": "_BQ247CF5Hir",
        "outputId": "e7368fc1-fe48-4468-90a3-cced8ec08697"
      },
      "execution_count": null,
      "outputs": [
        {
          "output_type": "stream",
          "name": "stdout",
          "text": [
            "hello guys\n"
          ]
        }
      ]
    },
    {
      "cell_type": "markdown",
      "source": [
        "7.2 Write a program to append text to an existing file and print the updatedcontent."
      ],
      "metadata": {
        "id": "SyY24AQl-KVV"
      }
    },
    {
      "cell_type": "code",
      "source": [
        "file=open(\"hahaha.txt\",\"r\")\n",
        "data=file.read()\n",
        "print(data)\n",
        "file.close()\n",
        "\n",
        "file=open(\"hahaha.txt\",\"a\")\n",
        "file.write(\" trying file handling in python\")\n",
        "file.close()\n",
        "\n",
        "file=open(\"hahaha.txt\",\"r\")\n",
        "data=file.read()\n",
        "print(data)\n",
        "file.close()\n",
        "\n"
      ],
      "metadata": {
        "colab": {
          "base_uri": "https://localhost:8080/"
        },
        "id": "hRnD_T3F-LHX",
        "outputId": "c2278cef-90ed-4a69-d595-2270a37a575c"
      },
      "execution_count": null,
      "outputs": [
        {
          "output_type": "stream",
          "name": "stdout",
          "text": [
            "hello guys\n",
            "hello guys trying file handling in python\n"
          ]
        }
      ]
    },
    {
      "cell_type": "markdown",
      "source": [
        "7.3 Write a program to count the number of lines in a text file."
      ],
      "metadata": {
        "id": "6FD26-H4-0E4"
      }
    },
    {
      "cell_type": "code",
      "source": [
        "with open(\"hahaha.txt\",\"r\") as file:\n",
        "  line=file.readlines()\n",
        "  count=len(line)\n",
        "  print(\"no of lines are\",count)"
      ],
      "metadata": {
        "colab": {
          "base_uri": "https://localhost:8080/"
        },
        "id": "qPmo1AMY-24d",
        "outputId": "9cc3c064-0817-4bbd-a3aa-2a171d65da29"
      },
      "execution_count": null,
      "outputs": [
        {
          "output_type": "stream",
          "name": "stdout",
          "text": [
            "no of lines are 1\n"
          ]
        }
      ]
    },
    {
      "cell_type": "markdown",
      "source": [
        "8.1 Write a program to handle division by zero using a try-except block."
      ],
      "metadata": {
        "id": "YErRhzMoA2dT"
      }
    },
    {
      "cell_type": "code",
      "source": [
        "try:\n",
        "    n=int(input(\"enter numerator\"))\n",
        "    d=int(input(\"enter denominator\"))\n",
        "    x=n/d;\n",
        "    print(x)\n",
        "except ZeroDivisionError:\n",
        "  print(\"cannot dividse by zero\")"
      ],
      "metadata": {
        "colab": {
          "base_uri": "https://localhost:8080/"
        },
        "id": "Udv26OFHA3f2",
        "outputId": "f0f11603-5f22-413e-ce83-6c010adfbfa3"
      },
      "execution_count": null,
      "outputs": [
        {
          "output_type": "stream",
          "name": "stdout",
          "text": [
            "enter numerator12\n",
            "enter denominator0\n",
            "cannot dividse by zero\n"
          ]
        }
      ]
    },
    {
      "cell_type": "markdown",
      "source": [
        "8.2 Write a program to handle invalid input (e.g., when the user enters a stringinstead of a number)."
      ],
      "metadata": {
        "id": "A5c30U49DPvY"
      }
    },
    {
      "cell_type": "code",
      "source": [
        "try:\n",
        "  n=int(input(\"enter \"))\n",
        "  print(\"u entered\",n)\n",
        "except  ValueError:\n",
        "  print(\"invalid input\")"
      ],
      "metadata": {
        "colab": {
          "base_uri": "https://localhost:8080/"
        },
        "id": "Yrumb8EZDRwA",
        "outputId": "4eb9ec26-fb6a-4e3f-9f60-ea80754c50ea"
      },
      "execution_count": null,
      "outputs": [
        {
          "output_type": "stream",
          "name": "stdout",
          "text": [
            "enter hdgh\n",
            "invalid input\n"
          ]
        }
      ]
    },
    {
      "cell_type": "markdown",
      "source": [
        "8.3 Write a program to demonstrate the use of finally in exception handling."
      ],
      "metadata": {
        "id": "URJigBgxDs1U"
      }
    },
    {
      "cell_type": "code",
      "source": [
        "try:\n",
        "    n=int(input(\"enter numerator\"))\n",
        "    d=int(input(\"enter denominator\"))\n",
        "    x=n/d;\n",
        "    print(x)\n",
        "except ZeroDivisionError:\n",
        "  print(\"cannot dividse by zero\")\n",
        "finally:\n",
        "  print(\"execution completed\")"
      ],
      "metadata": {
        "colab": {
          "base_uri": "https://localhost:8080/"
        },
        "id": "dWfnmth9DvAt",
        "outputId": "91ceb444-beca-4c2a-f6db-a0def3c36ba9"
      },
      "execution_count": null,
      "outputs": [
        {
          "output_type": "stream",
          "name": "stdout",
          "text": [
            "enter numerator45\n",
            "enter denominator5\n",
            "9.0\n",
            "execution completed\n"
          ]
        }
      ]
    },
    {
      "cell_type": "markdown",
      "source": [
        "9.1 Write a program to generate 5 random numbers between 1 and 100 and printthem."
      ],
      "metadata": {
        "id": "ZLDFWkEKTg91"
      }
    },
    {
      "cell_type": "code",
      "source": [
        "import random\n",
        "n=5\n",
        "for i in range(0,n):\n",
        "    print(random.randint(0,100))"
      ],
      "metadata": {
        "colab": {
          "base_uri": "https://localhost:8080/"
        },
        "id": "P2OMEeHFThwa",
        "outputId": "67bd258b-2fa4-4c79-ccce-14b72599490e"
      },
      "execution_count": 1,
      "outputs": [
        {
          "output_type": "stream",
          "name": "stdout",
          "text": [
            "28\n",
            "83\n",
            "58\n",
            "57\n",
            "41\n"
          ]
        }
      ]
    },
    {
      "cell_type": "markdown",
      "source": [
        "9.2 Write a program to generate a random number and check if it is prime.\n"
      ],
      "metadata": {
        "id": "FawK_WzmT0RA"
      }
    },
    {
      "cell_type": "code",
      "source": [
        "import random\n",
        "n=random.randint(1,100)\n",
        "print(n)\n",
        "c=0\n",
        "for i in range(1,n+1):\n",
        "    if(n%i==0):\n",
        "        c=c+1\n",
        "if (c==2):\n",
        "    print(\"prime\")\n",
        "else:\n",
        "    print(\"not prime\")"
      ],
      "metadata": {
        "colab": {
          "base_uri": "https://localhost:8080/"
        },
        "id": "gUCOo3XoTvTL",
        "outputId": "113241b1-7025-4aeb-f59b-a243b3a6aa55"
      },
      "execution_count": 2,
      "outputs": [
        {
          "output_type": "stream",
          "name": "stdout",
          "text": [
            "90\n",
            "not prime\n"
          ]
        }
      ]
    },
    {
      "cell_type": "markdown",
      "source": [
        "9.3 Write a program to simulate rolling a six-sided die."
      ],
      "metadata": {
        "id": "KBQgLy_6T2QX"
      }
    },
    {
      "cell_type": "code",
      "source": [
        "import random\n",
        "\n",
        "n=random.randint(1,6)\n",
        "print(\"rolled\",n)"
      ],
      "metadata": {
        "colab": {
          "base_uri": "https://localhost:8080/"
        },
        "id": "0aD6XGqET40V",
        "outputId": "764fad7a-e06c-46f8-98b8-2579de6a8d05"
      },
      "execution_count": 4,
      "outputs": [
        {
          "output_type": "stream",
          "name": "stdout",
          "text": [
            "rolled 5\n"
          ]
        }
      ]
    },
    {
      "cell_type": "markdown",
      "source": [
        "9.4 Write a program to shuffle a list of numbers."
      ],
      "metadata": {
        "id": "hXzJG9x-UMuN"
      }
    },
    {
      "cell_type": "code",
      "source": [
        "import random\n",
        "\n",
        "def shuf(n):\n",
        "  random.shuffle(n)\n",
        "  return n\n",
        "\n",
        "n=[1,2,3,4,5,6,8]\n",
        "\n",
        "print(n)\n",
        "\n",
        "print(shuf(n));"
      ],
      "metadata": {
        "colab": {
          "base_uri": "https://localhost:8080/"
        },
        "id": "R3Z8c4mmUO_B",
        "outputId": "5dbb2bc7-8f5b-4e29-89d3-99e2db275994"
      },
      "execution_count": 5,
      "outputs": [
        {
          "output_type": "stream",
          "name": "stdout",
          "text": [
            "[1, 2, 3, 4, 5, 6, 8]\n",
            "[3, 6, 2, 4, 5, 1, 8]\n"
          ]
        }
      ]
    },
    {
      "cell_type": "markdown",
      "source": [
        "9.5 Write a program to randomly select an item from a list."
      ],
      "metadata": {
        "id": "Bk7ACsgpUr05"
      }
    },
    {
      "cell_type": "code",
      "source": [
        "import random\n",
        "\n",
        "def shuf(n):\n",
        "\n",
        "  return random.choice(n)\n",
        "\n",
        "n=[1,2,3,4,5,6,8]\n",
        "\n",
        "print(n)\n",
        "\n",
        "print(shuf(n));"
      ],
      "metadata": {
        "colab": {
          "base_uri": "https://localhost:8080/"
        },
        "id": "zYP0IFJ4UvYg",
        "outputId": "637da8a2-6f47-4060-c241-0bb41c0ff62a"
      },
      "execution_count": 6,
      "outputs": [
        {
          "output_type": "stream",
          "name": "stdout",
          "text": [
            "[1, 2, 3, 4, 5, 6, 8]\n",
            "4\n"
          ]
        }
      ]
    },
    {
      "cell_type": "markdown",
      "source": [
        "9.6 Write a program to generate a random password of given length."
      ],
      "metadata": {
        "id": "77r_S9zqU-S6"
      }
    },
    {
      "cell_type": "code",
      "source": [
        "import random\n",
        "import string\n",
        "\n",
        "def password():\n",
        "  char=\"ABCDEFGHIJKLMNOPQRSTUVWXYZ123456789/*-+()[]&%$#@!\"\n",
        "  return ''.join(random.choices(char,k=12))\n",
        "\n",
        "print(password())"
      ],
      "metadata": {
        "colab": {
          "base_uri": "https://localhost:8080/"
        },
        "id": "PJGgpmT2VBJa",
        "outputId": "9a03d98f-3957-4e45-a173-390335798de2"
      },
      "execution_count": 10,
      "outputs": [
        {
          "output_type": "stream",
          "name": "stdout",
          "text": [
            "-3/F5C9[G7AA\n"
          ]
        }
      ]
    },
    {
      "cell_type": "markdown",
      "source": [
        "9.7 Write a program to pick a random card from a standard deck of 52 cards."
      ],
      "metadata": {
        "id": "2wlxcyk5WEZE"
      }
    },
    {
      "cell_type": "code",
      "source": [
        "import random\n",
        "\n",
        "def func():\n",
        "  a=[\"hearts\",\"spades\",\"diamonds\",\"clubs\"]\n",
        "  b=[\"2\",\"3\",\"4\",\"5\",\"6\",\"7\",\"8\",\"9\",\"10\",\"Jack\",\"Queen\",\"King\",\"Ace\"]\n",
        "\n",
        "  c=random.choice(a)\n",
        "  d=random.choice(b)\n",
        "\n",
        "  return c+\"of\"+d\n",
        "\n",
        "print(func())"
      ],
      "metadata": {
        "colab": {
          "base_uri": "https://localhost:8080/"
        },
        "id": "VMSQPfygWKJ3",
        "outputId": "5094aef8-13a6-44d8-dfe8-4181f8ad5dba"
      },
      "execution_count": 11,
      "outputs": [
        {
          "output_type": "stream",
          "name": "stdout",
          "text": [
            "spadesof10\n"
          ]
        }
      ]
    },
    {
      "cell_type": "markdown",
      "source": [
        "10.1 Write a program to accept two numbers as command-line arguments, addthem, and print the result."
      ],
      "metadata": {
        "id": "ilONt3xEYVMH"
      }
    },
    {
      "cell_type": "code",
      "source": [
        "import sys\n",
        "#giving error when using int or float\n",
        "n1= (sys.argv[1])\n",
        "n2=(sys.argv[2])\n",
        "print(n1+n2)"
      ],
      "metadata": {
        "colab": {
          "base_uri": "https://localhost:8080/"
        },
        "id": "0R2-qYvRYVuj",
        "outputId": "dfa82662-125b-412f-d376-3735c1705fc4"
      },
      "execution_count": 20,
      "outputs": [
        {
          "output_type": "stream",
          "name": "stdout",
          "text": [
            "-f/root/.local/share/jupyter/runtime/kernel-28f414ed-0cbf-4e14-815a-06ddbf625452.json\n"
          ]
        }
      ]
    },
    {
      "cell_type": "markdown",
      "source": [
        "10.2 Write a program to accept a string as a command-line argument and print itslength"
      ],
      "metadata": {
        "id": "JSihwKL4Ytut"
      }
    },
    {
      "cell_type": "code",
      "source": [
        "import sys\n",
        "\n",
        "n=sys.argv[1]\n",
        "\n",
        "l=len(n)\n",
        "print(l)"
      ],
      "metadata": {
        "colab": {
          "base_uri": "https://localhost:8080/"
        },
        "id": "2cF1IHzQYuav",
        "outputId": "f7fd04d4-b191-4432-9c20-2a07448a1efe"
      },
      "execution_count": 17,
      "outputs": [
        {
          "output_type": "stream",
          "name": "stdout",
          "text": [
            "2\n"
          ]
        }
      ]
    },
    {
      "cell_type": "markdown",
      "source": [
        "11.1 Write a program to use the math library to calculate the square root of a givennumber."
      ],
      "metadata": {
        "id": "Y5qIMJrUXuZ_"
      }
    },
    {
      "cell_type": "code",
      "source": [
        "import math\n",
        "n=int(input(\"enter number\"))\n",
        "print(math.sqrt(n))"
      ],
      "metadata": {
        "colab": {
          "base_uri": "https://localhost:8080/"
        },
        "id": "bb5VHVjmXvEw",
        "outputId": "4c1718dc-ca54-444e-bfbc-8ebe25123688"
      },
      "execution_count": 12,
      "outputs": [
        {
          "output_type": "stream",
          "name": "stdout",
          "text": [
            "enter number36\n",
            "6.0\n"
          ]
        }
      ]
    },
    {
      "cell_type": "markdown",
      "source": [
        "11.2 Write a program to use the datetime library to print the current date and time."
      ],
      "metadata": {
        "id": "KPxnbS8zX0Qo"
      }
    },
    {
      "cell_type": "code",
      "source": [
        "import datetime\n",
        "\n",
        "x = datetime.datetime.now()\n",
        "print(x)"
      ],
      "metadata": {
        "id": "kCR1vQ4oX2jT"
      },
      "execution_count": null,
      "outputs": []
    },
    {
      "cell_type": "markdown",
      "source": [
        "11.3 Write a program to use the os library to list all files in the current directory."
      ],
      "metadata": {
        "id": "YyCvHiEHX5Xs"
      }
    },
    {
      "cell_type": "code",
      "source": [
        "import os\n",
        "print(os.listdir())"
      ],
      "metadata": {
        "colab": {
          "base_uri": "https://localhost:8080/"
        },
        "id": "QKaHWuQcYKDp",
        "outputId": "ed2a0fbf-dbdb-4301-ea55-1a54838c6178"
      },
      "execution_count": 13,
      "outputs": [
        {
          "output_type": "stream",
          "name": "stdout",
          "text": [
            "['.config', 'sample_data']\n"
          ]
        }
      ]
    }
  ]
}