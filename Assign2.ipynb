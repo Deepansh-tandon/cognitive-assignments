{
  "nbformat": 4,
  "nbformat_minor": 0,
  "metadata": {
    "colab": {
      "provenance": [],
      "authorship_tag": "ABX9TyMKpsB16Wr9IjLYM8Uea8I2",
      "include_colab_link": true
    },
    "kernelspec": {
      "name": "python3",
      "display_name": "Python 3"
    },
    "language_info": {
      "name": "python"
    }
  },
  "cells": [
    {
      "cell_type": "markdown",
      "metadata": {
        "id": "view-in-github",
        "colab_type": "text"
      },
      "source": [
        "<a href=\"https://colab.research.google.com/github/Deepansh-tandon/cognitive-assignments/blob/main/Assign2.ipynb\" target=\"_parent\"><img src=\"https://colab.research.google.com/assets/colab-badge.svg\" alt=\"Open In Colab\"/></a>"
      ]
    },
    {
      "cell_type": "markdown",
      "source": [
        " Question\n",
        " Create a List\n",
        "operations:\n",
        " i. Add\n",
        "200 and\n",
        "L defined as\n",
        "300 to L.\n",
        " ii. Remove\n",
        "10 and\n",
        "[10, 20, 30, 40, 50, 60, 70, 80] and perform the following\n",
        "30 from L.\n",
        " iii. Sort\n",
        "L in ascending order.\n",
        " iv. Sort\n",
        "L in descending order."
      ],
      "metadata": {
        "id": "t0O_M69gb3Fp"
      }
    },
    {
      "cell_type": "code",
      "execution_count": 3,
      "metadata": {
        "colab": {
          "base_uri": "https://localhost:8080/"
        },
        "id": "Qy9umX9CbvYV",
        "outputId": "64f902b0-2ad4-41ca-da3c-a16b1b18ca59"
      },
      "outputs": [
        {
          "output_type": "stream",
          "name": "stdout",
          "text": [
            "[10, 20, 30, 40, 50, 60, 70, 80]\n",
            "[20, 40, 50, 60, 70, 80, 200, 300]\n",
            "[300, 200, 80, 70, 60, 50, 40, 20]\n"
          ]
        }
      ],
      "source": [
        "L=[10,20,30,40,50,60,70,80]\n",
        "print(L)\n",
        "L.append(200)\n",
        "L.append(300)\n",
        "L.remove(10)\n",
        "L.remove(30)\n",
        "L.sort()\n",
        "print(L)\n",
        "L.sort(reverse=True)\n",
        "print(L)"
      ]
    },
    {
      "cell_type": "markdown",
      "source": [
        " 2. Tuple Operations\n",
        " Question\n",
        " Create a tuple of marks scored as\n",
        "scores = (45, 89.5, 76, 45.4, 89, 92, 58, 45) and\n",
        "perform the following operations:\n",
        " i. Identify the highest score and its index in the tuple.\n",
        " ii. Find the lowest score and count how many times it appears.\n",
        " iii. Reverse the tuple and return it as a list.\n",
        " iv. Check if a specific score\n",
        "76 (input by the user) is present in the tuple and print\n",
        "its first occurrence index, or a message saying itʼs not present."
      ],
      "metadata": {
        "id": "U08HwWEwdRzx"
      }
    },
    {
      "cell_type": "code",
      "source": [
        "scores=(45, 89.5, 76, 45.4, 89, 92, 58, 45)\n",
        "n=max(scores)\n",
        "print(\"max element\",n)\n",
        "print(\"index of\",scores.index(n))\n",
        "m=min(scores)\n",
        "print(\"count of\",scores.count(m))\n",
        "l=list(reversed(scores))\n",
        "print(l)\n",
        "a=76\n",
        "if a in scores:\n",
        "  i=scores.index(a)\n",
        "  print(i)\n",
        ""
      ],
      "metadata": {
        "colab": {
          "base_uri": "https://localhost:8080/"
        },
        "id": "m2pcRcb0dSxH",
        "outputId": "66641177-4cf3-4df7-8ca4-6412cc91f60d"
      },
      "execution_count": 10,
      "outputs": [
        {
          "output_type": "stream",
          "name": "stdout",
          "text": [
            "max element 92\n",
            "index of 5\n",
            "count of 2\n",
            "[45, 58, 92, 89, 45.4, 76, 89.5, 45]\n",
            "2\n"
          ]
        }
      ]
    },
    {
      "cell_type": "markdown",
      "source": [
        " 3. Random Numbers and Counting\n",
        " Question\n",
        " Write a program to create a list of 100 random numbers between 100 and 900.\n",
        "Count and print:\n",
        " i. All odd numbers.\n",
        " ii. All even numbers.\n",
        " iii. All prime numbers."
      ],
      "metadata": {
        "id": "vBSCs2Lngo4n"
      }
    },
    {
      "cell_type": "code",
      "source": [
        "import random\n",
        "l=[]\n",
        "for i in range(1,101):\n",
        "  l.append(random.randint(100,900))\n",
        "print(l)\n",
        "e=[]\n",
        "o=[]\n",
        "p=[]\n",
        "\n",
        "def isprime(n):\n",
        "  i=0\n",
        "  c=0\n",
        "  for i in range(1,n+1):\n",
        "    if(n%i==0):\n",
        "        c=c+1\n",
        "  if c==2:\n",
        "      return True\n",
        "  else:\n",
        "      return False\n",
        "\n",
        "a=0\n",
        "b=0\n",
        "d=0\n",
        "for i in l:\n",
        "  if i%2==0:\n",
        "    e.append(i)\n",
        "    a=a+1\n",
        "  else:\n",
        "    o.append(i)\n",
        "    b=b+1\n",
        "  if isprime(i):\n",
        "    p.append(i)\n",
        "    d=d+1\n",
        "\n",
        "print(\"odd\",o)\n",
        "print(\"no of odd\",a)\n",
        "print(\"even\",e)\n",
        "print(\"no of even\",b)\n",
        "print(\"prime\",p)\n",
        "print(\"no of prime\",d)"
      ],
      "metadata": {
        "colab": {
          "base_uri": "https://localhost:8080/"
        },
        "id": "v2k09efwgp06",
        "outputId": "9f8d2579-973b-4078-d4a2-121827e37ab0"
      },
      "execution_count": 15,
      "outputs": [
        {
          "output_type": "stream",
          "name": "stdout",
          "text": [
            "[387, 896, 760, 626, 608, 553, 162, 541, 691, 776, 535, 574, 158, 132, 318, 266, 342, 114, 643, 803, 143, 870, 614, 716, 145, 715, 357, 137, 448, 877, 392, 718, 139, 489, 814, 509, 602, 795, 528, 595, 190, 252, 489, 827, 160, 535, 675, 480, 396, 611, 855, 675, 737, 286, 772, 459, 340, 755, 284, 677, 865, 421, 154, 623, 351, 260, 424, 805, 465, 197, 377, 652, 874, 285, 584, 484, 844, 842, 594, 807, 646, 448, 514, 203, 692, 170, 172, 548, 712, 834, 838, 737, 256, 668, 781, 486, 262, 231, 607, 859]\n",
            "odd [387, 553, 541, 691, 535, 643, 803, 143, 145, 715, 357, 137, 877, 139, 489, 509, 795, 595, 489, 827, 535, 675, 611, 855, 675, 737, 459, 755, 677, 865, 421, 623, 351, 805, 465, 197, 377, 285, 807, 203, 737, 781, 231, 607, 859]\n",
            "no of odd 55\n",
            "even [896, 760, 626, 608, 162, 776, 574, 158, 132, 318, 266, 342, 114, 870, 614, 716, 448, 392, 718, 814, 602, 528, 190, 252, 160, 480, 396, 286, 772, 340, 284, 154, 260, 424, 652, 874, 584, 484, 844, 842, 594, 646, 448, 514, 692, 170, 172, 548, 712, 834, 838, 256, 668, 486, 262]\n",
            "no of even 45\n",
            "prime [541, 691, 643, 137, 877, 139, 509, 827, 677, 421, 197, 607, 859]\n",
            "no of prime 13\n"
          ]
        }
      ]
    },
    {
      "cell_type": "markdown",
      "source": [
        " Consider the following sets representing scores of two teams:\n",
        " A = {34, 56, 78, 90} and\n",
        "B = {78, 45, 90, 23} . Perform the following operations:\n",
        " i. Find the unique scores achieved by both teams (union).\n",
        " ii. Identify the scores that are common to both teams (intersection).\n",
        " iii. Find the scores that are exclusive to each team (symmetric difference).\n",
        " iv. Check if the scores of team A are a subset of team B, and if team B's scores\n",
        "are a superset of team A.\n",
        " v. Remove a specific score\n",
        "X (input by the user) from set A if it exists. If not, print\n",
        "a message saying it is not present."
      ],
      "metadata": {
        "id": "YAhSMENniiI-"
      }
    },
    {
      "cell_type": "code",
      "source": [
        "A = {34, 56, 78, 90}\n",
        "B = {78, 45, 90, 23}\n",
        "print(\"Union of A nd B\",A|B)\n",
        "print(\"Intersection of A nd B\",A&B)\n",
        "print(\"sym diff of A nd B\",A^B)\n",
        "\n",
        "if(A.issubset(B)):\n",
        "  print(\"A is subset of B\")\n",
        "else:\n",
        "  print(\"A is not subset of B\")\n",
        "\n",
        "if(B.issuperset(A)):\n",
        "  print(\"B is superset of A\")\n",
        "else:\n",
        "  print(\"B is not superset of A\")\n",
        "\n",
        "n=int(input(\"enter no\"))\n",
        "try:\n",
        "  A.remove(n)\n",
        "  print(\"element removed\")\n",
        "except KeyError:\n",
        "  print(\"error\")\n",
        "\n",
        "print(A)"
      ],
      "metadata": {
        "colab": {
          "base_uri": "https://localhost:8080/"
        },
        "id": "oiDF7tXVim14",
        "outputId": "8bafeac3-06f7-4474-b39c-81998dd3305b"
      },
      "execution_count": 18,
      "outputs": [
        {
          "output_type": "stream",
          "name": "stdout",
          "text": [
            "Union of A nd B {34, 45, 78, 23, 56, 90}\n",
            "Intersection of A nd B {90, 78}\n",
            "sym diff of A nd B {34, 45, 23, 56}\n",
            "A is not subset of B\n",
            "B is not superset of A\n",
            "enter no78\n",
            "element removed\n",
            "{56, 34, 90}\n"
          ]
        }
      ]
    },
    {
      "cell_type": "markdown",
      "source": [
        " Write a program to rename a key\n",
        "city to\n",
        "location in the following dictionary:\n",
        " data = {\"city\": \"New York\", \"population\": 8419600, \"area\": 468.9}"
      ],
      "metadata": {
        "id": "kceNPSpikPzU"
      }
    },
    {
      "cell_type": "code",
      "source": [
        "data = {\"city\": \"New York\", \"population\": 8419600, \"area\": 468.9}\n",
        "data[\"location\"]=\"New York\"\n",
        "data.pop(\"city\")\n",
        "print(data)"
      ],
      "metadata": {
        "colab": {
          "base_uri": "https://localhost:8080/"
        },
        "id": "wtTcr-u6kUSc",
        "outputId": "c310853a-8617-4920-9168-99bf742c267c"
      },
      "execution_count": 25,
      "outputs": [
        {
          "output_type": "stream",
          "name": "stdout",
          "text": [
            "{'population': 8419600, 'area': 468.9, 'location': 'New York'}\n"
          ]
        }
      ]
    }
  ]
}